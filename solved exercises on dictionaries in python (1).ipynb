{
 "cells": [
  {
   "cell_type": "code",
   "execution_count": 5,
   "id": "573c6744-05b2-4ff3-b724-b246e7bb77a5",
   "metadata": {},
   "outputs": [
    {
     "name": "stdout",
     "output_type": "stream",
     "text": [
      "{'name': 'amina', 'age': '19', 'city': 'minwali', 'hobbies': 'scrolling'}\n"
     ]
    }
   ],
   "source": [
    "my_dict={'name':'amina','age':'19','city':'minwali','hobbies':'scrolling'}\n",
    "print(my_dict)"
   ]
  },
  {
   "cell_type": "code",
   "execution_count": 19,
   "id": "d234854c-03f1-46f5-b0d4-ca1fb9abddee",
   "metadata": {},
   "outputs": [
    {
     "name": "stdout",
     "output_type": "stream",
     "text": [
      "amina\n",
      "19\n",
      "minwali\n",
      "scrolling\n"
     ]
    }
   ],
   "source": [
    "print(my_dict['name'])    #task1\n",
    "print(my_dict['age'])\n",
    "print(my_dict['city'])\n",
    "print(my_dict['hobbies'])"
   ]
  },
  {
   "cell_type": "code",
   "execution_count": 21,
   "id": "41b78d5b-1afd-40e9-8103-c2a25dd61c04",
   "metadata": {},
   "outputs": [
    {
     "name": "stdout",
     "output_type": "stream",
     "text": [
      "{'amina': 2, 'roheen': 2, 'meeral': 1, 'eshal': 1, 'aleena': 1}\n"
     ]
    }
   ],
   "source": [
    "text=\"amina roheen meeral eshal aleena amina roheen\"     #task2\n",
    "words=text.lower().split()\n",
    "word_count={}\n",
    "for word in words:\n",
    "    word=word.strip(\".,!\")\n",
    "    word_count[word]=word_count.get(word,0)+1\n",
    "\n",
    "\n",
    "print(word_count)\n",
    "    "
   ]
  },
  {
   "cell_type": "code",
   "execution_count": 23,
   "id": "69f43e32-00f7-4410-854d-e55e5a651f84",
   "metadata": {},
   "outputs": [
    {
     "name": "stdout",
     "output_type": "stream",
     "text": [
      "{'apple': 10, 'banana': 15, 'orange': 5}\n"
     ]
    }
   ],
   "source": [
    "goods={'apple':10,'banana':15,'orange':5}\n",
    "print(goods)"
   ]
  },
  {
   "cell_type": "code",
   "execution_count": 25,
   "id": "8221a238-1aaa-47a5-8b07-40864dfb2bea",
   "metadata": {},
   "outputs": [
    {
     "name": "stdout",
     "output_type": "stream",
     "text": [
      "After Adding Items: {'apple': 15, 'banana': 25, 'orange': 8}\n"
     ]
    }
   ],
   "source": [
    "goods['apple']+=5\n",
    "goods['banana']+=10      #task3\n",
    "goods['orange']+=3\n",
    "print('After Adding Items:',goods)"
   ]
  },
  {
   "cell_type": "code",
   "execution_count": 27,
   "id": "fa6dd337-652d-4443-bea0-c93c96f4a4f1",
   "metadata": {},
   "outputs": [
    {
     "name": "stdout",
     "output_type": "stream",
     "text": [
      "After Removing Items: {'apple': 6, 'banana': 25, 'orange': 8}\n"
     ]
    }
   ],
   "source": [
    "goods['apple']-=9\n",
    "print(\"After Removing Items:\",goods)"
   ]
  },
  {
   "cell_type": "code",
   "execution_count": 29,
   "id": "4238bdc7-1d6a-4ecd-9f55-4962bcdef24d",
   "metadata": {},
   "outputs": [
    {
     "name": "stdout",
     "output_type": "stream",
     "text": [
      "After Removing Items {'apple': 6, 'banana': 25, 'orange': 6}\n"
     ]
    }
   ],
   "source": [
    "goods['orange']-=2\n",
    "print('After Removing Items', goods)"
   ]
  },
  {
   "cell_type": "code",
   "execution_count": 39,
   "id": "139767e2-cd65-4fa8-8621-943e262dedaf",
   "metadata": {},
   "outputs": [
    {
     "name": "stdout",
     "output_type": "stream",
     "text": [
      "Category Counts: {'booksclothselectronicsbooks': 1}\n",
      "Most Popular Category: booksclothselectronicsbooks\n"
     ]
    }
   ],
   "source": [
    "orders=['books' 'cloths' 'electronics' 'books']\n",
    "category_count ={}\n",
    "for category in orders:\n",
    "    if category in category_count:\n",
    "        category_count[category]+=1    #task4\n",
    "    else:\n",
    "        category_count[category]=1\n",
    "most_popular=max(category_count, key=category_count.get)\n",
    "print(\"Category Counts:\", category_count)\n",
    "print(\"Most Popular Category:\",most_popular)\n"
   ]
  },
  {
   "cell_type": "code",
   "execution_count": 37,
   "id": "c1fcfffc-af8c-4b67-8419-d913a5c5d535",
   "metadata": {},
   "outputs": [
    {
     "name": "stdout",
     "output_type": "stream",
     "text": [
      "Student Grades: 67\n",
      "Average Grade: 75.66666666666667\n"
     ]
    }
   ],
   "source": [
    "grades={'alice':85,\n",
    "       'bob':75,     #task5\n",
    "        'xyz':67\n",
    "       }\n",
    "total=0\n",
    "for grade in grades.values():\n",
    "    total+=grade\n",
    "average=total/len(grades)\n",
    "print(\"Student Grades:\",grade)\n",
    "print(\"Average Grade:\", average)\n",
    "        "
   ]
  },
  {
   "cell_type": "code",
   "execution_count": null,
   "id": "b6ccee99-56d2-4cdc-93b5-bcf3508bff7a",
   "metadata": {},
   "outputs": [],
   "source": []
  }
 ],
 "metadata": {
  "kernelspec": {
   "display_name": "Python 3 (ipykernel)",
   "language": "python",
   "name": "python3"
  },
  "language_info": {
   "codemirror_mode": {
    "name": "ipython",
    "version": 3
   },
   "file_extension": ".py",
   "mimetype": "text/x-python",
   "name": "python",
   "nbconvert_exporter": "python",
   "pygments_lexer": "ipython3",
   "version": "3.12.4"
  }
 },
 "nbformat": 4,
 "nbformat_minor": 5
}
